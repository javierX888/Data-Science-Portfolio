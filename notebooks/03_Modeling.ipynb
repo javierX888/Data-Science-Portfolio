{
 "cells": [
  {
   "cell_type": "markdown",
   "id": "206dd8e4",
   "metadata": {},
   "source": [
    "# Modelado Predictivo\n",
    "# Proyecto: Predicción de Ventas\n",
    "\n",
    "**Autor:** Javier Gacitúa  \n",
    "**Fecha:** Octubre 2025\n",
    "\n",
    "---\n",
    "\n",
    "## Objetivos\n",
    "\n",
    "1. Entrenar múltiples modelos de Machine Learning\n",
    "2. Evaluar y comparar rendimiento de modelos\n",
    "3. Optimizar hiperparámetros\n",
    "4. Seleccionar el mejor modelo\n",
    "5. Generar predicciones y visualizaciones"
   ]
  },
  {
   "cell_type": "code",
   "execution_count": null,
   "id": "a892e6f0",
   "metadata": {
    "vscode": {
     "languageId": "code"
    }
   },
   "outputs": [],
   "source": [
    "# Importar librerías\n",
    "import pandas as pd\n",
    "import numpy as np\n",
    "import matplotlib.pyplot as plt\n",
    "import seaborn as sns\n",
    "import warnings\n",
    "warnings.filterwarnings('ignore')\n",
    "\n",
    "# Machine Learning\n",
    "from sklearn.model_selection import train_test_split, cross_val_score\n",
    "from sklearn.metrics import mean_squared_error, mean_absolute_error, r2_score\n",
    "\n",
    "# Configuración\n",
    "plt.style.use('seaborn-v0_8-darkgrid')\n",
    "sns.set_palette(\"husl\")\n",
    "\n",
    "print(\" Librerías importadas correctamente\")"
   ]
  },
  {
   "cell_type": "markdown",
   "id": "250ee71d",
   "metadata": {},
   "source": [
    "## 1. Cargar Datos Procesados"
   ]
  },
  {
   "cell_type": "code",
   "execution_count": null,
   "id": "18704084",
   "metadata": {
    "vscode": {
     "languageId": "code"
    }
   },
   "outputs": [],
   "source": [
    "# Importar módulos propios\n",
    "import sys\n",
    "sys.path.append('../src')\n",
    "from data_loader import DataLoader\n",
    "from models import SalesPredictor\n",
    "from visualization import SalesVisualizer\n",
    "\n",
    "# Inicializar\n",
    "loader = DataLoader(data_dir='../data')\n",
    "predictor = SalesPredictor()\n",
    "visualizer = SalesVisualizer()\n",
    "\n",
    "# Cargar datos (reemplazar con tu dataset)\n",
    "# df = loader.load_local_csv('sales_engineered.csv', directory='processed')\n",
    "\n",
    "# Datos de ejemplo con features\n",
    "np.random.seed(42)\n",
    "n_samples = 1000\n",
    "df = pd.DataFrame({\n",
    "    'sales': np.random.normal(1000, 200, n_samples) + np.linspace(0, 500, n_samples),\n",
    "    'price': np.random.uniform(10, 100, n_samples),\n",
    "    'promotion': np.random.choice([0, 1], n_samples),\n",
    "    'customers': np.random.randint(10, 200, n_samples),\n",
    "    'sales_lag_1': np.random.normal(1000, 200, n_samples),\n",
    "    'sales_lag_7': np.random.normal(1000, 200, n_samples),\n",
    "    'sales_rolling_mean_7': np.random.normal(1000, 150, n_samples),\n",
    "    'day_of_week': np.random.randint(0, 7, n_samples),\n",
    "    'month': np.random.randint(1, 13, n_samples),\n",
    "    'is_weekend': np.random.choice([0, 1], n_samples)\n",
    "})\n",
    "\n",
    "print(f\" Dataset cargado: {df.shape[0]} filas, {df.shape[1]} columnas\")\n",
    "df.head()"
   ]
  },
  {
   "cell_type": "markdown",
   "id": "9a8b53eb",
   "metadata": {},
   "source": [
    "## 2. Preparación de Datos"
   ]
  },
  {
   "cell_type": "code",
   "execution_count": null,
   "id": "13acbf4c",
   "metadata": {
    "vscode": {
     "languageId": "code"
    }
   },
   "outputs": [],
   "source": [
    "# Separar features y target\n",
    "target_column = 'sales'\n",
    "X_train, X_test, y_train, y_test = predictor.prepare_data(df, target_column, test_size=0.2)\n",
    "\n",
    "print(f\"\\n Datos preparados correctamente\")\n",
    "print(f\"  - Features de entrenamiento: {X_train.shape}\")\n",
    "print(f\"  - Features de prueba: {X_test.shape}\")\n",
    "print(f\"  - Target de entrenamiento: {y_train.shape}\")\n",
    "print(f\"  - Target de prueba: {y_test.shape}\")"
   ]
  },
  {
   "cell_type": "markdown",
   "id": "d4c7e1b6",
   "metadata": {},
   "source": [
    "## 3. Modelo Baseline: Regresión Lineal"
   ]
  },
  {
   "cell_type": "code",
   "execution_count": null,
   "id": "e15b21b1",
   "metadata": {
    "vscode": {
     "languageId": "code"
    }
   },
   "outputs": [],
   "source": [
    "# Entrenar Linear Regression\n",
    "lr_model = predictor.train_linear_regression(X_train, y_train, name='Linear Regression')\n",
    "\n",
    "# Evaluar\n",
    "lr_metrics = predictor.evaluate_model(lr_model, X_test, y_test, 'Linear Regression')"
   ]
  },
  {
   "cell_type": "code",
   "execution_count": null,
   "id": "dbf0f6ad",
   "metadata": {
    "vscode": {
     "languageId": "code"
    }
   },
   "outputs": [],
   "source": [
    "# Visualizar predicciones vs reales\n",
    "y_pred_lr = lr_model.predict(X_test)\n",
    "visualizer.plot_predictions_vs_actual(y_test, y_pred_lr, \n",
    "                                     title='Linear Regression: Predicciones vs Reales')"
   ]
  },
  {
   "cell_type": "markdown",
   "id": "1b584fcf",
   "metadata": {},
   "source": [
    "## 4. Random Forest"
   ]
  },
  {
   "cell_type": "code",
   "execution_count": null,
   "id": "dc191505",
   "metadata": {
    "vscode": {
     "languageId": "code"
    }
   },
   "outputs": [],
   "source": [
    "# Entrenar Random Forest\n",
    "rf_model = predictor.train_random_forest(X_train, y_train, \n",
    "                                        n_estimators=100, \n",
    "                                        max_depth=15,\n",
    "                                        name='Random Forest')\n",
    "\n",
    "# Evaluar\n",
    "rf_metrics = predictor.evaluate_model(rf_model, X_test, y_test, 'Random Forest')"
   ]
  },
  {
   "cell_type": "code",
   "execution_count": null,
   "id": "8492bc2d",
   "metadata": {
    "vscode": {
     "languageId": "code"
    }
   },
   "outputs": [],
   "source": [
    "# Visualizar predicciones\n",
    "y_pred_rf = rf_model.predict(X_test)\n",
    "visualizer.plot_predictions_vs_actual(y_test, y_pred_rf, \n",
    "                                     title='Random Forest: Predicciones vs Reales')"
   ]
  },
  {
   "cell_type": "code",
   "execution_count": null,
   "id": "46bdfe37",
   "metadata": {
    "vscode": {
     "languageId": "code"
    }
   },
   "outputs": [],
   "source": [
    "# Feature Importance de Random Forest\n",
    "feature_importance = predictor.get_feature_importance('Random Forest', \n",
    "                                                     X_train.columns.tolist(), \n",
    "                                                     top_n=15)\n",
    "\n",
    "if feature_importance is not None:\n",
    "    visualizer.plot_feature_importance(feature_importance, top_n=15)"
   ]
  },
  {
   "cell_type": "markdown",
   "id": "1431d044",
   "metadata": {},
   "source": [
    "## 5. XGBoost"
   ]
  },
  {
   "cell_type": "code",
   "execution_count": null,
   "id": "b175d8df",
   "metadata": {
    "vscode": {
     "languageId": "code"
    }
   },
   "outputs": [],
   "source": [
    "# Entrenar XGBoost\n",
    "xgb_model = predictor.train_xgboost(X_train, y_train, \n",
    "                                   n_estimators=100,\n",
    "                                   learning_rate=0.1,\n",
    "                                   max_depth=6,\n",
    "                                   name='XGBoost')\n",
    "\n",
    "if xgb_model is not None:\n",
    "    # Evaluar\n",
    "    xgb_metrics = predictor.evaluate_model(xgb_model, X_test, y_test, 'XGBoost')"
   ]
  },
  {
   "cell_type": "code",
   "execution_count": null,
   "id": "bd3c9e07",
   "metadata": {
    "vscode": {
     "languageId": "code"
    }
   },
   "outputs": [],
   "source": [
    "# Visualizar predicciones XGBoost\n",
    "if xgb_model is not None:\n",
    "    y_pred_xgb = xgb_model.predict(X_test)\n",
    "    visualizer.plot_predictions_vs_actual(y_test, y_pred_xgb, \n",
    "                                         title='XGBoost: Predicciones vs Reales')"
   ]
  },
  {
   "cell_type": "code",
   "execution_count": null,
   "id": "c92203e8",
   "metadata": {
    "vscode": {
     "languageId": "code"
    }
   },
   "outputs": [],
   "source": [
    "# Feature Importance de XGBoost\n",
    "if xgb_model is not None:\n",
    "    xgb_importance = predictor.get_feature_importance('XGBoost', \n",
    "                                                     X_train.columns.tolist(), \n",
    "                                                     top_n=15)\n",
    "    if xgb_importance is not None:\n",
    "        visualizer.plot_feature_importance(xgb_importance, top_n=15)"
   ]
  },
  {
   "cell_type": "markdown",
   "id": "b7900885",
   "metadata": {},
   "source": [
    "## 6. Comparación de Modelos"
   ]
  },
  {
   "cell_type": "code",
   "execution_count": null,
   "id": "4908ee53",
   "metadata": {
    "vscode": {
     "languageId": "code"
    }
   },
   "outputs": [],
   "source": [
    "# Comparar todos los modelos\n",
    "results_df = predictor.compare_models()"
   ]
  },
  {
   "cell_type": "code",
   "execution_count": null,
   "id": "594f58cb",
   "metadata": {
    "vscode": {
     "languageId": "code"
    }
   },
   "outputs": [],
   "source": [
    "# Visualizar comparación\n",
    "if results_df is not None:\n",
    "    visualizer.plot_model_comparison(results_df)"
   ]
  },
  {
   "cell_type": "markdown",
   "id": "d77cd219",
   "metadata": {},
   "source": [
    "## 7. Validación Cruzada"
   ]
  },
  {
   "cell_type": "code",
   "execution_count": null,
   "id": "bd8e2f9d",
   "metadata": {
    "vscode": {
     "languageId": "code"
    }
   },
   "outputs": [],
   "source": [
    "# Validación cruzada para el mejor modelo\n",
    "from sklearn.model_selection import cross_val_score\n",
    "\n",
    "if predictor.best_model is not None:\n",
    "    print(\"\\n Realizando Validación Cruzada (5-fold)...\")\n",
    "    \n",
    "    cv_scores = cross_val_score(predictor.best_model, X_train, y_train, \n",
    "                               cv=5, scoring='r2', n_jobs=-1)\n",
    "    \n",
    "    print(\"\\n RESULTADOS DE VALIDACIÓN CRUZADA\")\n",
    "    print(\"=\" * 50)\n",
    "    print(f\"R² scores: {cv_scores}\")\n",
    "    print(f\"Media: {cv_scores.mean():.4f}\")\n",
    "    print(f\"Desviación estándar: {cv_scores.std():.4f}\")\n",
    "    print(f\"Rango: [{cv_scores.min():.4f}, {cv_scores.max():.4f}]\")\n",
    "    \n",
    "    # Visualizar\n",
    "    plt.figure(figsize=(10, 6))\n",
    "    plt.boxplot(cv_scores, vert=True)\n",
    "    plt.ylabel('R² Score')\n",
    "    plt.title('Distribución de R² en Validación Cruzada', fontweight='bold', fontsize=14)\n",
    "    plt.grid(True, alpha=0.3, axis='y')\n",
    "    plt.tight_layout()\n",
    "    plt.show()"
   ]
  },
  {
   "cell_type": "markdown",
   "id": "d3dba9a2",
   "metadata": {},
   "source": [
    "## 8. Análisis de Errores"
   ]
  },
  {
   "cell_type": "code",
   "execution_count": null,
   "id": "37b4ffd5",
   "metadata": {
    "vscode": {
     "languageId": "code"
    }
   },
   "outputs": [],
   "source": [
    "# Análisis detallado de errores\n",
    "if predictor.best_model is not None:\n",
    "    y_pred_best = predictor.best_model.predict(X_test)\n",
    "    errors = y_test - y_pred_best\n",
    "    abs_errors = np.abs(errors)\n",
    "    pct_errors = np.abs(errors / y_test) * 100\n",
    "    \n",
    "    print(\"\\n ANÁLISIS DE ERRORES\")\n",
    "    print(\"=\" * 50)\n",
    "    print(f\"Error promedio: ${errors.mean():.2f}\")\n",
    "    print(f\"Error absoluto promedio: ${abs_errors.mean():.2f}\")\n",
    "    print(f\"Error porcentual promedio: {pct_errors.mean():.2f}%\")\n",
    "    print(f\"Mediana del error absoluto: ${np.median(abs_errors):.2f}\")\n",
    "    print(f\"Error máximo: ${abs_errors.max():.2f}\")\n",
    "    \n",
    "    # Distribución de errores\n",
    "    fig, axes = plt.subplots(1, 2, figsize=(15, 5))\n",
    "    \n",
    "    axes[0].hist(errors, bins=50, color='coral', edgecolor='black', alpha=0.7)\n",
    "    axes[0].axvline(0, color='red', linestyle='--', linewidth=2)\n",
    "    axes[0].set_xlabel('Error (Real - Predicción)')\n",
    "    axes[0].set_ylabel('Frecuencia')\n",
    "    axes[0].set_title('Distribución de Errores', fontweight='bold')\n",
    "    axes[0].grid(True, alpha=0.3)\n",
    "    \n",
    "    axes[1].hist(pct_errors, bins=50, color='skyblue', edgecolor='black', alpha=0.7)\n",
    "    axes[1].set_xlabel('Error Porcentual (%)')\n",
    "    axes[1].set_ylabel('Frecuencia')\n",
    "    axes[1].set_title('Distribución de Errores Porcentuales', fontweight='bold')\n",
    "    axes[1].grid(True, alpha=0.3)\n",
    "    \n",
    "    plt.tight_layout()\n",
    "    plt.show()"
   ]
  },
  {
   "cell_type": "markdown",
   "id": "d421ff16",
   "metadata": {},
   "source": [
    "## 9. Predicciones en Conjunto de Prueba"
   ]
  },
  {
   "cell_type": "code",
   "execution_count": null,
   "id": "3755140c",
   "metadata": {
    "vscode": {
     "languageId": "code"
    }
   },
   "outputs": [],
   "source": [
    "# Crear DataFrame con predicciones\n",
    "if predictor.best_model is not None:\n",
    "    predictions_df = pd.DataFrame({\n",
    "        'Real': y_test.values,\n",
    "        'Predicción': y_pred_best,\n",
    "        'Error': errors,\n",
    "        'Error_Abs': abs_errors,\n",
    "        'Error_Pct': pct_errors\n",
    "    })\n",
    "    \n",
    "    # Ordenar por error absoluto\n",
    "    predictions_df = predictions_df.sort_values('Error_Abs', ascending=False)\n",
    "    \n",
    "    print(\"\\n Top 10 Predicciones con Mayor Error:\")\n",
    "    print(predictions_df.head(10))\n",
    "    \n",
    "    print(\"\\n Top 10 Mejores Predicciones:\")\n",
    "    print(predictions_df.tail(10))"
   ]
  },
  {
   "cell_type": "markdown",
   "id": "6032f0df",
   "metadata": {},
   "source": [
    "## 10. Guardar Mejor Modelo"
   ]
  },
  {
   "cell_type": "code",
   "execution_count": null,
   "id": "966e3f88",
   "metadata": {
    "vscode": {
     "languageId": "code"
    }
   },
   "outputs": [],
   "source": [
    "# Guardar el mejor modelo\n",
    "if predictor.best_model is not None:\n",
    "    model_path = '../models/saved_models/best_sales_model.pkl'\n",
    "    # predictor.save_model(list(predictor.models.keys())[0], model_path)\n",
    "    print(f\" Modelo guardado en: {model_path}\")"
   ]
  },
  {
   "cell_type": "markdown",
   "id": "186a010f",
   "metadata": {},
   "source": [
    "## 11. Resumen Final"
   ]
  },
  {
   "cell_type": "code",
   "execution_count": null,
   "id": "a6808501",
   "metadata": {
    "vscode": {
     "languageId": "code"
    }
   },
   "outputs": [],
   "source": [
    "# Resumen completo\n",
    "print(\"\\n\" + \"=\" * 70)\n",
    "print(\" RESUMEN DEL MODELADO\")\n",
    "print(\"=\" * 70)\n",
    "\n",
    "if results_df is not None:\n",
    "    print(\"\\n Comparación de Modelos:\")\n",
    "    print(results_df.to_string())\n",
    "    \n",
    "    best_model_name = results_df.index[0]\n",
    "    best_r2 = results_df.loc[best_model_name, 'R2']\n",
    "    best_rmse = results_df.loc[best_model_name, 'RMSE']\n",
    "    best_mae = results_df.loc[best_model_name, 'MAE']\n",
    "    best_mape = results_df.loc[best_model_name, 'MAPE']\n",
    "    \n",
    "    print(f\"\\n MEJOR MODELO: {best_model_name}\")\n",
    "    print(\"=\" * 40)\n",
    "    print(f\"  R²: {best_r2:.4f}\")\n",
    "    print(f\"  RMSE: ${best_rmse:.2f}\")\n",
    "    print(f\"  MAE: ${best_mae:.2f}\")\n",
    "    print(f\"  MAPE: {best_mape:.2f}%\")\n",
    "\n",
    "print(\"\\n Modelado completado exitosamente\")\n",
    "print(\" Próximo paso: Crear dashboard interactivo con Streamlit\")\n",
    "print(\"=\" * 70)"
   ]
  },
  {
   "cell_type": "markdown",
   "id": "d6a102eb",
   "metadata": {},
   "source": [
    "## 12. Insights de Negocio\n",
    "\n",
    "###  Hallazgos Clave:\n",
    "\n",
    "1. **Rendimiento del Modelo:**\n",
    "   - El mejor modelo logró un R² de [valor], explicando [%] de la variabilidad en ventas\n",
    "   - Error promedio de predicción: $[valor] ([%] del valor promedio)\n",
    "\n",
    "2. **Variables Más Importantes:**\n",
    "   - [Listar top 5 features más importantes]\n",
    "   - Estos factores son los principales drivers de ventas\n",
    "\n",
    "3. **Casos de Error:**\n",
    "   - Mayores errores ocurren en [describir casos]\n",
    "   - Posibles mejoras: [sugerencias]\n",
    "\n",
    "###  Recomendaciones de Negocio:\n",
    "\n",
    "1. **Optimización de Inventario:**\n",
    "   - Usar predicciones para planificar stock\n",
    "   - Evitar sobre/sub inventario\n",
    "\n",
    "2. **Estrategia de Precios:**\n",
    "   - Ajustar precios según predicciones de demanda\n",
    "   - Identificar productos de alta rotación\n",
    "\n",
    "3. **Marketing y Promociones:**\n",
    "   - Optimizar timing de promociones\n",
    "   - Focalizar en períodos de alta demanda predicha\n",
    "\n",
    "4. **Expansión:**\n",
    "   - Identificar tiendas/categorías con mayor potencial\n",
    "   - Replicar estrategias exitosas\n",
    "\n",
    "---\n",
    "\n",
    "**Nota:** Actualizar con resultados reales de tu dataset"
   ]
  }
 ],
 "metadata": {
  "language_info": {
   "name": "python"
  }
 },
 "nbformat": 4,
 "nbformat_minor": 5
}
